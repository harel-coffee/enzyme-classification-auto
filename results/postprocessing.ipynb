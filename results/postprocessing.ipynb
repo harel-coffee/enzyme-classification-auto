{
 "cells": [
  {
   "cell_type": "code",
   "execution_count": 1,
   "metadata": {},
   "outputs": [],
   "source": [
    "import pickle\n",
    "import pandas as pd\n",
    "from scipy.stats import wilcoxon\n",
    "\n",
    "FILES = [\"ABLE_results.pickle\", \"ML_results.pickle\", \"BILSTM_results.pickle\", \n",
    "        \"GRU_results.pickle\", \"CNN_results.pickle\", \"LSTM_results.pickle\"]\n",
    "\n",
    "all_results = []\n",
    "for filename in FILES:\n",
    "    with open(filename, \"rb\") as datafile:\n",
    "        results = pickle.load(datafile)\n",
    "    all_results.extend(results)"
   ]
  },
  {
   "cell_type": "code",
   "execution_count": 2,
   "metadata": {},
   "outputs": [],
   "source": [
    "df = pd.DataFrame(all_results)\n",
    "model_names = list(set(df[\"model\"]))\n",
    "df['f1'] = None\n",
    "df[\"precision\"] = None\n",
    "df[\"recall\"] = None\n",
    "df[\"bal_acc\"] = None"
   ]
  },
  {
   "cell_type": "code",
   "execution_count": 3,
   "metadata": {},
   "outputs": [],
   "source": [
    "for i in range(0, len(all_results)):\n",
    "    df.loc[i,'f1'] = df['report'][i]['macro avg']['f1-score']\n",
    "    df.loc[i, 'precision'] = df['report'][i]['macro avg']['precision']\n",
    "    df.loc[i, 'recall'] = df['report'][i]['macro avg']['recall']\n",
    "    NUMBERS = ['0', '1', '2', '3', '4', '5', '6']\n",
    "    bal_acc_score = 0\n",
    "    for num in NUMBERS:\n",
    "        bal_acc_score += df['report'][i][num]['recall']\n",
    "    bal_acc_score /= 7.0\n",
    "    df.loc[i, 'bal_acc'] = bal_acc_score"
   ]
  },
  {
   "cell_type": "code",
   "execution_count": 4,
   "metadata": {},
   "outputs": [],
   "source": [
    "df.drop(columns=[\"report\", \"confusion_matrix\"], inplace=True)\n",
    "df.to_csv(\"all_models_results.csv\")"
   ]
  },
  {
   "cell_type": "code",
   "execution_count": 18,
   "metadata": {},
   "outputs": [],
   "source": [
    "f1_test = pd.DataFrame(columns=model_names, index=model_names)\n",
    "precision_test = pd.DataFrame(columns=model_names, index=model_names)\n",
    "bal_acc_test = pd.DataFrame(columns=model_names, index=model_names)\n",
    "recall_test = pd.DataFrame(columns=model_names, index=model_names)"
   ]
  },
  {
   "cell_type": "code",
   "execution_count": 19,
   "metadata": {},
   "outputs": [],
   "source": [
    "f1_test[\"RidgeClassifier\"][\"BILSTM\"] = 1"
   ]
  },
  {
   "cell_type": "code",
   "execution_count": 20,
   "metadata": {},
   "outputs": [],
   "source": [
    "for i in range(0, len(model_names)):\n",
    "    for j in range(i+1, len(model_names)):\n",
    "        model_a = model_names[i]\n",
    "        model_b = model_names[j]\n",
    "        \n",
    "        # f score test\n",
    "        a_f1_observations = df[df[\"model\"] == model_a].sort_values(by=[\"sampling\", \"fold\"])[\"f1\"]\n",
    "        b_f1_observations = df[df[\"model\"] == model_b].sort_values(by=[\"sampling\", \"fold\"])[\"f1\"]\n",
    "        w, p = wilcoxon(a_f1_observations, b_f1_observations)\n",
    "        f1_test[model_a][model_b] = p\n",
    "        f1_test[model_b][model_a] = p\n",
    "        \n",
    "        # precision test\n",
    "        a_prec_observations = df[df[\"model\"] == model_a].sort_values(by=[\"sampling\", \"fold\"])[\"precision\"]\n",
    "        b_prec_observations = df[df[\"model\"] == model_b].sort_values(by=[\"sampling\", \"fold\"])[\"precision\"]\n",
    "        w, p = wilcoxon(a_prec_observations, b_prec_observations)\n",
    "        f1_test[model_a][model_b] = p\n",
    "        f1_test[model_b][model_a] = p\n",
    "        \n",
    "        # recall test\n",
    "        a_recall_observations = df[df[\"model\"] == model_a].sort_values(by=[\"sampling\", \"fold\"])[\"recall\"]\n",
    "        b_recall_observations = df[df[\"model\"] == model_b].sort_values(by=[\"sampling\", \"fold\"])[\"recall\"]\n",
    "        w, p = wilcoxon(a_recall_observations, b_recall_observations)\n",
    "        recall_test[model_a][model_b] = p\n",
    "        recall_test[model_b][model_a] = p\n",
    "        \n",
    "        # balanced accuracy test\n",
    "        a_bal_acc_observations = df[df[\"model\"] == model_a].sort_values(by=[\"sampling\", \"fold\"])[\"recall\"]\n",
    "        b_bal_acc_observations = df[df[\"model\"] == model_b].sort_values(by=[\"sampling\", \"fold\"])[\"recall\"]\n",
    "        w, p = wilcoxon(a_bal_acc_observations, b_bal_acc_observations)\n",
    "        bal_acc_test[model_a][model_b] = p\n",
    "        bal_acc_test[model_b][model_a] = p"
   ]
  },
  {
   "cell_type": "code",
   "execution_count": 21,
   "metadata": {},
   "outputs": [],
   "source": [
    "f1_test.to_csv(\"f1_test.csv\")\n",
    "precision_test.to_csv(\"prec_test.csv\")\n",
    "bal_acc_test.to_csv(\"bal_acc_test.csv\")\n",
    "recall_test.to_csv(\"recall_test.csv\")"
   ]
  }
 ],
 "metadata": {
  "kernelspec": {
   "display_name": "Python 3",
   "language": "python",
   "name": "python3"
  },
  "language_info": {
   "codemirror_mode": {
    "name": "ipython",
    "version": 3
   },
   "file_extension": ".py",
   "mimetype": "text/x-python",
   "name": "python",
   "nbconvert_exporter": "python",
   "pygments_lexer": "ipython3",
   "version": "3.8.5"
  }
 },
 "nbformat": 4,
 "nbformat_minor": 4
}
